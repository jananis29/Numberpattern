{
  "nbformat": 4,
  "nbformat_minor": 0,
  "metadata": {
    "colab": {
      "name": "NUMBER_PATTERN.ipynb",
      "provenance": [],
      "collapsed_sections": []
    },
    "kernelspec": {
      "name": "python3",
      "display_name": "Python 3"
    },
    "language_info": {
      "name": "python"
    }
  },
  "cells": [
    {
      "cell_type": "code",
      "execution_count": null,
      "metadata": {
        "colab": {
          "base_uri": "https://localhost:8080/"
        },
        "id": "ApXI_OdjV2oy",
        "outputId": "67eb0584-992e-4331-c4bf-74d4b7ad8601"
      },
      "outputs": [
        {
          "output_type": "stream",
          "name": "stdout",
          "text": [
            "Enter a number:5\n",
            "1 1 1 1 1 \n",
            "2 2 2 2 2 \n",
            "3 3 3 3 3 \n",
            "4 4 4 4 4 \n",
            "5 5 5 5 5 \n"
          ]
        }
      ],
      "source": [
        "n = int(input(\"Enter a number:\"))\n",
        "for i in range(1,n+1):\n",
        "  for j in range(1,n+1):\n",
        "    print(i, end =\" \")\n",
        "  print(\"\")"
      ]
    },
    {
      "cell_type": "code",
      "source": [
        "n = int(input(\"Enter a number:\"))\n",
        "for i in range(1,n+1):\n",
        "  for j in range(1,n+1):\n",
        "    print(j, end =\" \")\n",
        "  print(\"\")"
      ],
      "metadata": {
        "colab": {
          "base_uri": "https://localhost:8080/"
        },
        "id": "fcQMkYs_WrXp",
        "outputId": "e672ea20-1104-4e9e-9890-0c9ceca01a2a"
      },
      "execution_count": null,
      "outputs": [
        {
          "output_type": "stream",
          "name": "stdout",
          "text": [
            "Enter a number:5\n",
            "1 2 3 4 5 \n",
            "1 2 3 4 5 \n",
            "1 2 3 4 5 \n",
            "1 2 3 4 5 \n",
            "1 2 3 4 5 \n"
          ]
        }
      ]
    },
    {
      "cell_type": "code",
      "source": [
        "n = int(input(\"Enter a number:\"))\n",
        "for i in range(n,0,-1):\n",
        "  for j in range(n,0,-1):\n",
        "    print(j, end =\" \")\n",
        "  print(\"\")"
      ],
      "metadata": {
        "colab": {
          "base_uri": "https://localhost:8080/"
        },
        "id": "1Ox7F1jaWwgo",
        "outputId": "69c9e5cd-a412-4b5d-c5ea-a805fb763740"
      },
      "execution_count": null,
      "outputs": [
        {
          "output_type": "stream",
          "name": "stdout",
          "text": [
            "Enter a number:5\n",
            "5 4 3 2 1 \n",
            "5 4 3 2 1 \n",
            "5 4 3 2 1 \n",
            "5 4 3 2 1 \n",
            "5 4 3 2 1 \n"
          ]
        }
      ]
    },
    {
      "cell_type": "code",
      "source": [
        "n = int(input(\"Enter a number:\"))\n",
        "for i in range(n,0,-1):\n",
        "  for j in range(n,0,-1):\n",
        "    print(i, end =\" \")\n",
        "  print(\"\")"
      ],
      "metadata": {
        "colab": {
          "base_uri": "https://localhost:8080/"
        },
        "id": "nxteOAUhXGk9",
        "outputId": "578b3d13-09b0-4d1f-9248-a83e7ed3ffa2"
      },
      "execution_count": null,
      "outputs": [
        {
          "output_type": "stream",
          "name": "stdout",
          "text": [
            "Enter a number:5\n",
            "5 5 5 5 5 \n",
            "4 4 4 4 4 \n",
            "3 3 3 3 3 \n",
            "2 2 2 2 2 \n",
            "1 1 1 1 1 \n"
          ]
        }
      ]
    },
    {
      "cell_type": "code",
      "source": [
        "n = int(input(\"Enter a number:\"))\n",
        "num =1;\n",
        "for i in range(1,n+1):\n",
        "  for j in range(1,n+1):\n",
        "    print(num, end =\" \")\n",
        "    num+=1\n",
        "  print(\"\")"
      ],
      "metadata": {
        "colab": {
          "base_uri": "https://localhost:8080/"
        },
        "id": "hLcTWFkyXScG",
        "outputId": "6327eeff-8ee3-415b-af1b-48110822395e"
      },
      "execution_count": null,
      "outputs": [
        {
          "output_type": "stream",
          "name": "stdout",
          "text": [
            "Enter a number:5\n",
            "1 2 3 4 5 \n",
            "6 7 8 9 10 \n",
            "11 12 13 14 15 \n",
            "16 17 18 19 20 \n",
            "21 22 23 24 25 \n"
          ]
        }
      ]
    },
    {
      "cell_type": "code",
      "source": [
        "n = int(input(\"Enter a number:\"))\n",
        "num =n*n;\n",
        "for i in range(1,n+1):\n",
        "  for j in range(1,n+1):\n",
        "    print(num, end =\" \")\n",
        "    num-=1\n",
        "  print(\"\")"
      ],
      "metadata": {
        "colab": {
          "base_uri": "https://localhost:8080/"
        },
        "id": "xyBjjb3aX8Cj",
        "outputId": "11b38ac8-b5e8-4178-b43e-f30cc2021e34"
      },
      "execution_count": null,
      "outputs": [
        {
          "output_type": "stream",
          "name": "stdout",
          "text": [
            "Enter a number:5\n",
            "25 24 23 22 21 \n",
            "20 19 18 17 16 \n",
            "15 14 13 12 11 \n",
            "10 9 8 7 6 \n",
            "5 4 3 2 1 \n"
          ]
        }
      ]
    },
    {
      "cell_type": "code",
      "source": [
        "n = int(input(\"Enter a number:\"))\n",
        "num =1;\n",
        "for i in range(1,n+1):\n",
        "  for j in range(1,n+1):\n",
        "    print(num, end=\"\")\n",
        "    if(j<n):\n",
        "      print(\"*\",end=\"\")\n",
        "    num+=1\n",
        "  print(\"\")"
      ],
      "metadata": {
        "colab": {
          "base_uri": "https://localhost:8080/"
        },
        "id": "cSn0GJ4iYFGy",
        "outputId": "4d03f1a0-8f6e-4525-9b05-0ac3e2fb017d"
      },
      "execution_count": null,
      "outputs": [
        {
          "output_type": "stream",
          "name": "stdout",
          "text": [
            "Enter a number:5\n",
            "1*2*3*4*5\n",
            "6*7*8*9*10\n",
            "11*12*13*14*15\n",
            "16*17*18*19*20\n",
            "21*22*23*24*25\n"
          ]
        }
      ]
    },
    {
      "cell_type": "code",
      "source": [
        "n = int(input(\"Enter a number:\"))\n",
        "num =1;\n",
        "for i in range(1,n+1):\n",
        "  num=n*i;\n",
        "  for j in range(1,n+1):\n",
        "    print(num, end =\" \")\n",
        "    num-=1\n",
        "  print(\"\")"
      ],
      "metadata": {
        "colab": {
          "base_uri": "https://localhost:8080/"
        },
        "id": "Tvm5qLhwYzoy",
        "outputId": "b6d0e144-ff18-4e4e-d02c-659ab68722dd"
      },
      "execution_count": null,
      "outputs": [
        {
          "output_type": "stream",
          "name": "stdout",
          "text": [
            "Enter a number:5\n",
            "5 4 3 2 1 \n",
            "10 9 8 7 6 \n",
            "15 14 13 12 11 \n",
            "20 19 18 17 16 \n",
            "25 24 23 22 21 \n"
          ]
        }
      ]
    },
    {
      "cell_type": "code",
      "source": [
        "n = int(input(\"Enter a number:\"))\n",
        "num =1;\n",
        "for i in range(1,n+1):\n",
        "  num=n*i;\n",
        "  for j in range(1,n+1):\n",
        "    print(num, end =\"\")\n",
        "    if(j<n):\n",
        "      print(\"*\",end='')\n",
        "    num-=1\n",
        "  print(\"\")"
      ],
      "metadata": {
        "colab": {
          "base_uri": "https://localhost:8080/"
        },
        "id": "EL3Zayb1ZePg",
        "outputId": "0ff97739-3f07-4ab2-80ee-79c9cc615c00"
      },
      "execution_count": null,
      "outputs": [
        {
          "output_type": "stream",
          "name": "stdout",
          "text": [
            "Enter a number:5\n",
            "5*4*3*2*1\n",
            "10*9*8*7*6\n",
            "15*14*13*12*11\n",
            "20*19*18*17*16\n",
            "25*24*23*22*21\n"
          ]
        }
      ]
    },
    {
      "cell_type": "code",
      "source": [
        "n= int(input(\"Enter a number:\"))\n",
        "num=1;\n",
        "for i in range(1,n+1):\n",
        "  for j in range(1,n+1):\n",
        "    print(num,end=' ')\n",
        "    num= num+n;\n",
        "  print(\"\")\n",
        "  num=i+1;"
      ],
      "metadata": {
        "colab": {
          "base_uri": "https://localhost:8080/"
        },
        "id": "bt9298PtZ1c1",
        "outputId": "f4f34e3d-682a-42f9-ecb8-11d7526f1d0d"
      },
      "execution_count": null,
      "outputs": [
        {
          "output_type": "stream",
          "name": "stdout",
          "text": [
            "Enter a number:5\n",
            "1 6 11 16 21 \n",
            "2 7 12 17 22 \n",
            "3 8 13 18 23 \n",
            "4 9 14 19 24 \n",
            "5 10 15 20 25 \n"
          ]
        }
      ]
    },
    {
      "cell_type": "code",
      "source": [
        "n= int(input(\"Enter a number:\"))\n",
        "num=1;\n",
        "for i in range(1,n+1):\n",
        "  for j in range(1,n+1):\n",
        "    if(i%2==0):\n",
        "      print(\"0\",end=' ')\n",
        "    else:\n",
        "      print(\"1\",end=' ')\n",
        "  print(\"\")"
      ],
      "metadata": {
        "colab": {
          "base_uri": "https://localhost:8080/"
        },
        "id": "JAMnqAwtbo_b",
        "outputId": "f5d0a399-c3ed-4faf-dde9-01b9ee20b3be"
      },
      "execution_count": null,
      "outputs": [
        {
          "output_type": "stream",
          "name": "stdout",
          "text": [
            "Enter a number:5\n",
            "1 1 1 1 1 \n",
            "0 0 0 0 0 \n",
            "1 1 1 1 1 \n",
            "0 0 0 0 0 \n",
            "1 1 1 1 1 \n"
          ]
        }
      ]
    },
    {
      "cell_type": "code",
      "source": [
        "n= int(input(\"Enter a number:\"))\n",
        "num=1;\n",
        "for i in range(1,n+1):\n",
        "  for j in range(1,n+1):\n",
        "    if(j%2==0):\n",
        "      print(\"0\",end=' ')\n",
        "    else:\n",
        "      print(\"1\",end=' ')\n",
        "  print(\"\")"
      ],
      "metadata": {
        "colab": {
          "base_uri": "https://localhost:8080/"
        },
        "id": "nrhLTSnZcDOE",
        "outputId": "c2bf707f-e2cd-4f1f-b4bd-c388b4f94015"
      },
      "execution_count": null,
      "outputs": [
        {
          "output_type": "stream",
          "name": "stdout",
          "text": [
            "Enter a number:5\n",
            "1 0 1 0 1 \n",
            "1 0 1 0 1 \n",
            "1 0 1 0 1 \n",
            "1 0 1 0 1 \n",
            "1 0 1 0 1 \n"
          ]
        }
      ]
    },
    {
      "cell_type": "code",
      "source": [
        "n= int(input(\"Enter a number:\"))\n",
        "num=1;\n",
        "for i in range(1,n+1):\n",
        "  for j in range(1,n+1):\n",
        "    if((i+j)%2==0):\n",
        "      print(\"0\",end=' ')\n",
        "    else:\n",
        "      print(\"1\",end=' ')\n",
        "  print(\"\")"
      ],
      "metadata": {
        "colab": {
          "base_uri": "https://localhost:8080/"
        },
        "id": "p2SIFWwFcY9z",
        "outputId": "afd9a255-44f1-435b-fdb8-cfa229639c3e"
      },
      "execution_count": null,
      "outputs": [
        {
          "output_type": "stream",
          "name": "stdout",
          "text": [
            "Enter a number:5\n",
            "0 1 0 1 0 \n",
            "1 0 1 0 1 \n",
            "0 1 0 1 0 \n",
            "1 0 1 0 1 \n",
            "0 1 0 1 0 \n"
          ]
        }
      ]
    },
    {
      "cell_type": "code",
      "source": [
        "n = int(input(\"Enter a number:\"))\n",
        "for i in range(1,n+1):\n",
        "  for j in range(1,i+1):\n",
        "    print(j, end =\" \")\n",
        "  print(\"\")"
      ],
      "metadata": {
        "colab": {
          "base_uri": "https://localhost:8080/"
        },
        "id": "ekkN9-dvdLjP",
        "outputId": "88c96116-4841-4cf6-c494-5c967883e2c1"
      },
      "execution_count": null,
      "outputs": [
        {
          "output_type": "stream",
          "name": "stdout",
          "text": [
            "Enter a number:5\n",
            "1 \n",
            "1 2 \n",
            "1 2 3 \n",
            "1 2 3 4 \n",
            "1 2 3 4 5 \n"
          ]
        }
      ]
    },
    {
      "cell_type": "code",
      "source": [
        "n = int(input(\"Enter a number:\"))\n",
        "for i in range(1,n+1):\n",
        "  for j in range(1,i+1):\n",
        "    print(i, end =\" \")\n",
        "  print(\"\")"
      ],
      "metadata": {
        "colab": {
          "base_uri": "https://localhost:8080/"
        },
        "id": "VT4Rp4vvdmVR",
        "outputId": "ae92b49e-15a0-46b7-f1e2-e220265bb3ae"
      },
      "execution_count": null,
      "outputs": [
        {
          "output_type": "stream",
          "name": "stdout",
          "text": [
            "Enter a number:5\n",
            "1 \n",
            "2 2 \n",
            "3 3 3 \n",
            "4 4 4 4 \n",
            "5 5 5 5 5 \n"
          ]
        }
      ]
    },
    {
      "cell_type": "code",
      "source": [
        "n = int(input(\"Enter a number:\"))\n",
        "num=1;\n",
        "for i in range(1,n+1):\n",
        "  for j in range(1,i+1):\n",
        "    print(num, end =\" \")\n",
        "    num+=1;\n",
        "  print(\"\")"
      ],
      "metadata": {
        "colab": {
          "base_uri": "https://localhost:8080/"
        },
        "id": "2q9pCFRpfNkC",
        "outputId": "873880c5-3b21-42fa-a59a-414d6467a866"
      },
      "execution_count": null,
      "outputs": [
        {
          "output_type": "stream",
          "name": "stdout",
          "text": [
            "Enter a number:5\n",
            "1 \n",
            "2 3 \n",
            "4 5 6 \n",
            "7 8 9 10 \n",
            "11 12 13 14 15 \n"
          ]
        }
      ]
    },
    {
      "cell_type": "code",
      "source": [
        "n = int(input(\"Enter a number:\"))\n",
        "num=1;\n",
        "for i in range(1,n+1):\n",
        "  for j in range(1,i+1):\n",
        "    print(num, end =\"\")\n",
        "    if(j<i):\n",
        "      print(\"*\", end ='')\n",
        "    num+=1;\n",
        "  print(\"\")"
      ],
      "metadata": {
        "colab": {
          "base_uri": "https://localhost:8080/"
        },
        "id": "Ab8d-BqjGN8v",
        "outputId": "acb26b79-cc29-4a27-ab75-bded43e0ed56"
      },
      "execution_count": null,
      "outputs": [
        {
          "output_type": "stream",
          "name": "stdout",
          "text": [
            "Enter a number:5\n",
            "1\n",
            "2*3\n",
            "4*5*6\n",
            "7*8*9*10\n",
            "11*12*13*14*15\n"
          ]
        }
      ]
    },
    {
      "cell_type": "code",
      "source": [
        "n = int(input(\"Enter a number:\"))\n",
        "for i in range(1,n+1):\n",
        "  for j in range(1,i+1):\n",
        "    if(j==1 or j==i or i==n):\n",
        "      print(\"1\",end=' ')\n",
        "    else:\n",
        "      print(\"0\",end=' ')\n",
        "  print(\"\")"
      ],
      "metadata": {
        "colab": {
          "base_uri": "https://localhost:8080/"
        },
        "id": "kh9k1jr2Gdt_",
        "outputId": "dd02a561-9d3c-46bf-c449-2d633eac4d3f"
      },
      "execution_count": null,
      "outputs": [
        {
          "output_type": "stream",
          "name": "stdout",
          "text": [
            "Enter a number:5\n",
            "1 \n",
            "1 1 \n",
            "1 0 1 \n",
            "1 0 0 1 \n",
            "1 1 1 1 1 \n"
          ]
        }
      ]
    },
    {
      "cell_type": "code",
      "source": [
        "n = int(input(\"Enter a number:\"))\n",
        "num=1;\n",
        "for i in range(n,0,-1):\n",
        "  for j in range(1,i+1):\n",
        "    print(num,end=' ')\n",
        "    num+=1;\n",
        "  print(\"\")"
      ],
      "metadata": {
        "colab": {
          "base_uri": "https://localhost:8080/"
        },
        "id": "fRGxqm-iHfKr",
        "outputId": "8ab4c706-8558-422c-fc2a-e9d450839762"
      },
      "execution_count": null,
      "outputs": [
        {
          "output_type": "stream",
          "name": "stdout",
          "text": [
            "Enter a number:5\n",
            "1 2 3 4 5 \n",
            "6 7 8 9 \n",
            "10 11 12 \n",
            "13 14 \n",
            "15 \n"
          ]
        }
      ]
    },
    {
      "cell_type": "code",
      "source": [
        "n = int(input(\"Enter a number:\"))\n",
        "\n",
        "for i in range(1,n+1):\n",
        "  for j in range(1,n+1):\n",
        "    if(j>=i):\n",
        "      print(i,end='')\n",
        "    else:\n",
        "      print(end=' ')\n",
        "  print(\"\")"
      ],
      "metadata": {
        "colab": {
          "base_uri": "https://localhost:8080/"
        },
        "id": "hCuzUvLQIG7S",
        "outputId": "9f96b005-a467-4109-c54e-b2662210cdf0"
      },
      "execution_count": null,
      "outputs": [
        {
          "output_type": "stream",
          "name": "stdout",
          "text": [
            "Enter a number:5\n",
            "11111\n",
            " 2222\n",
            "  333\n",
            "   44\n",
            "    5\n"
          ]
        }
      ]
    },
    {
      "cell_type": "code",
      "source": [
        "n = int(input(\"Enter a number:\"))\n",
        "for i in range(1,n+1):\n",
        "  for j in range(1,n+1):\n",
        "    if(n-i>=j):\n",
        "      print(end=\" \")\n",
        "    else:\n",
        "      print(i,end=\" \")\n",
        "\n",
        "    \n",
        "  print(\"\")"
      ],
      "metadata": {
        "colab": {
          "base_uri": "https://localhost:8080/"
        },
        "id": "_vTKjm9vKcZk",
        "outputId": "397d9ad5-aa0e-4971-d8ff-9714a33d0c1e"
      },
      "execution_count": null,
      "outputs": [
        {
          "output_type": "stream",
          "name": "stdout",
          "text": [
            "Enter a number:5\n",
            "    1 \n",
            "   2 2 \n",
            "  3 3 3 \n",
            " 4 4 4 4 \n",
            "5 5 5 5 5 \n"
          ]
        }
      ]
    },
    {
      "cell_type": "code",
      "source": [
        "n = int(input(\"Enter a number:\"))\n",
        "a=0;\n",
        "k=1;\n",
        "while(a<=n):\n",
        "  k+=a;\n",
        "  a+=1;\n",
        "k-=1;\n",
        "for i in range(1,n+1):\n",
        "  for j in range(1,i+1):\n",
        "    print(k, end =\" \")\n",
        "    k-=1;\n",
        "  print(\"\")"
      ],
      "metadata": {
        "colab": {
          "base_uri": "https://localhost:8080/"
        },
        "id": "SD_FaiS_NI6J",
        "outputId": "76167666-34de-4422-cff1-9328bfe87245"
      },
      "execution_count": null,
      "outputs": [
        {
          "output_type": "stream",
          "name": "stdout",
          "text": [
            "Enter a number:5\n",
            "15 \n",
            "14 13 \n",
            "12 11 10 \n",
            "9 8 7 6 \n",
            "5 4 3 2 1 \n"
          ]
        }
      ]
    },
    {
      "cell_type": "code",
      "source": [
        "n = int(input(\"Enter a number:\"))\n",
        "num=1;\n",
        "for i in range(1,n+1):\n",
        "  for j in range(0,i):\n",
        "    print(num-j, end =\" \")\n",
        "  print(\"\")\n",
        "  num=num+i+1;"
      ],
      "metadata": {
        "colab": {
          "base_uri": "https://localhost:8080/"
        },
        "id": "T3n5AvllUJNA",
        "outputId": "0bc2def0-d431-4747-b72e-a37ef4dc478b"
      },
      "execution_count": null,
      "outputs": [
        {
          "output_type": "stream",
          "name": "stdout",
          "text": [
            "Enter a number:5\n",
            "1 \n",
            "3 2 \n",
            "6 5 4 \n",
            "10 9 8 7 \n",
            "15 14 13 12 11 \n"
          ]
        }
      ]
    },
    {
      "cell_type": "code",
      "source": [
        "n = int(input(\"Enter a number:\"))\n",
        "num=1;\n",
        "for i in range(1,n+1):\n",
        "  for j in range(0,i):\n",
        "    print(num-j, end =\"\")\n",
        "    if(j<i-1):\n",
        "      print(\"*\",end='')\n",
        "  print(\"\")\n",
        "  num=num+i+1;"
      ],
      "metadata": {
        "colab": {
          "base_uri": "https://localhost:8080/"
        },
        "id": "V2dB3pjQVu86",
        "outputId": "93723463-88cc-4fb2-f1ab-288ccf5581a2"
      },
      "execution_count": null,
      "outputs": [
        {
          "output_type": "stream",
          "name": "stdout",
          "text": [
            "Enter a number:5\n",
            "1\n",
            "3*2\n",
            "6*5*4\n",
            "10*9*8*7\n",
            "15*14*13*12*11\n"
          ]
        }
      ]
    },
    {
      "cell_type": "code",
      "source": [
        "n = int(input(\"Enter a number:\"))\n",
        "for i in range(1,n + 1):  \n",
        "  m = 1;  \n",
        "  for j in range(1,i + 1):\n",
        "    print(m, end = \" \")\n",
        "    m = int(m * (i - j) / j)  \n",
        "        \n",
        "  print(\"\")"
      ],
      "metadata": {
        "colab": {
          "base_uri": "https://localhost:8080/"
        },
        "id": "Z1yfE92UYBG5",
        "outputId": "8d4b5680-bd56-491c-a376-e3bd728bd30f"
      },
      "execution_count": null,
      "outputs": [
        {
          "output_type": "stream",
          "name": "stdout",
          "text": [
            "Enter a number:5\n",
            "1 \n",
            "1 1 \n",
            "1 2 1 \n",
            "1 3 3 1 \n",
            "1 4 6 4 1 \n"
          ]
        }
      ]
    },
    {
      "cell_type": "code",
      "source": [
        "n = int(input(\"Enter a number:\"))\n",
        "for i in range(1,n+1):\n",
        "  for j in range(1,i+1):\n",
        "    print(i, end =\" \")\n",
        "  print(\"\")\n",
        "for i in range(n-1,0,-1):\n",
        "  for j in range(1,i+1):\n",
        "    print(i, end =\" \")\n",
        "  print(\"\")"
      ],
      "metadata": {
        "colab": {
          "base_uri": "https://localhost:8080/"
        },
        "id": "WzVae1Plrr1-",
        "outputId": "4a97ed27-cdac-4e45-bcca-2a3087270d16"
      },
      "execution_count": null,
      "outputs": [
        {
          "output_type": "stream",
          "name": "stdout",
          "text": [
            "Enter a number:5\n",
            "1 \n",
            "2 2 \n",
            "3 3 3 \n",
            "4 4 4 4 \n",
            "5 5 5 5 5 \n",
            "4 4 4 4 \n",
            "3 3 3 \n",
            "2 2 \n",
            "1 \n"
          ]
        }
      ]
    },
    {
      "cell_type": "code",
      "source": [
        "n = int(input(\"Enter a number:\"))\n",
        "for i in range(1,n+1):\n",
        "  for j in range(1,n+1):\n",
        "    if(j==n and i%2 != 0):\n",
        "      print(i+1,end=' ')\n",
        "    elif(j==1 and i%2==0):\n",
        "      print(i+1,end=' ')\n",
        "    else:\n",
        "      print(i, end =\" \")\n",
        "  print(\"\")"
      ],
      "metadata": {
        "colab": {
          "base_uri": "https://localhost:8080/"
        },
        "id": "mtoOEpsssrfM",
        "outputId": "a5175352-b967-4cb5-ba83-6f29ffc9a7b2"
      },
      "execution_count": null,
      "outputs": [
        {
          "output_type": "stream",
          "name": "stdout",
          "text": [
            "Enter a number:4\n",
            "1 1 1 2 \n",
            "3 2 2 2 \n",
            "3 3 3 4 \n",
            "5 4 4 4 \n"
          ]
        }
      ]
    },
    {
      "cell_type": "code",
      "source": [
        "n = int(input(\"Enter a number:\"))\n",
        "k=1;\n",
        "for i in range(1,n+1):\n",
        "  for j in range(0,i):\n",
        "    if(j==0):\n",
        "      k=i;\n",
        "    else:\n",
        "      k+=n-j;\n",
        "    print(k,end=\" \")\n",
        "    \n",
        "  print(\"\")"
      ],
      "metadata": {
        "colab": {
          "base_uri": "https://localhost:8080/"
        },
        "id": "Fa4T2SY9uzGa",
        "outputId": "7f6f46e5-7ee6-4ae1-8ddc-9716d694c162"
      },
      "execution_count": null,
      "outputs": [
        {
          "output_type": "stream",
          "name": "stdout",
          "text": [
            "Enter a number:5\n",
            "1 \n",
            "2 6 \n",
            "3 7 10 \n",
            "4 8 11 13 \n",
            "5 9 12 14 15 \n"
          ]
        }
      ]
    },
    {
      "cell_type": "code",
      "source": [
        "n = int(input(\"Enter a number:\"))\n",
        "k=1;\n",
        "for i in range(1,n+1):\n",
        "  for j in range(1,n+1):\n",
        "\n",
        "    print(k, end=' ')\n",
        "    k+=1\n",
        "  if(i<(n/2)or(n%2!=0 and i<(n/2))):\n",
        "    k=k+n;\n",
        "  elif ((n%2!=0 and(i<(n/2)+1))):\n",
        "    k= k-(n*2);\n",
        "  elif(n%2==0 and i==(n/2)):\n",
        "    k=k+1-1;\n",
        "  else:\n",
        "    k=k-(n*3);\n",
        "  print(\"\")"
      ],
      "metadata": {
        "colab": {
          "base_uri": "https://localhost:8080/"
        },
        "id": "fjs825VofMGf",
        "outputId": "3df718b5-c9c0-44f1-faad-637b314dfe91"
      },
      "execution_count": 21,
      "outputs": [
        {
          "output_type": "stream",
          "name": "stdout",
          "text": [
            "Enter a number:9\n",
            "1 2 3 4 5 6 7 8 9 \n",
            "19 20 21 22 23 24 25 26 27 \n",
            "37 38 39 40 41 42 43 44 45 \n",
            "55 56 57 58 59 60 61 62 63 \n",
            "73 74 75 76 77 78 79 80 81 \n",
            "64 65 66 67 68 69 70 71 72 \n",
            "46 47 48 49 50 51 52 53 54 \n",
            "28 29 30 31 32 33 34 35 36 \n",
            "10 11 12 13 14 15 16 17 18 \n"
          ]
        }
      ]
    }
  ]
}